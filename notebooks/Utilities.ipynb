{
 "cells": [
  {
   "cell_type": "code",
   "execution_count": 3,
   "metadata": {},
   "outputs": [],
   "source": [
    "#Install The required libraries and import them.\n",
    "\n",
    "import pandas as pd\n",
    "from pyspark.sql import SparkSession\n",
    "from pyspark.sql.types import StructType,StructField, StringType, IntegerType\n",
    "import pyspark.sql.functions as F \n",
    "from sqlalchemy import create_engine\n",
    "import psycopg2\n",
    "import logging"
   ]
  },
  {
   "cell_type": "code",
   "execution_count": 2,
   "metadata": {},
   "outputs": [],
   "source": [
    "# Initialize Spark session\n",
    "spark = SparkSession.builder \\\n",
    "    .appName(\"Ingestion of CSV Files\") \\\n",
    "    .config(\"spark.jars.packages\", \"org.postgresql:postgresql:42.6.0\") \\\n",
    "    .getOrCreate()"
   ]
  },
  {
   "cell_type": "code",
   "execution_count": null,
   "metadata": {},
   "outputs": [],
   "source": [
    "#Create a validation function based on rules. For this example, the function will validate if the columns of a table are empty on certain rows.\n",
    "def nullCount(df, inputColumns):\n",
    "    df_valid = df #Initially equal to the original dataset.\n",
    "    df_invalid = df.filter(\"1=0\").withColumn(\"validationMessage\",F.lit(\"\")) #Creating empty dataframe with the dataset schema and validation message\n",
    "    columns = inputColumns\n",
    "    source_count=df_valid.count()\n",
    "\n",
    "    if columns:\n",
    "        #Create the valid and not valid conditions\n",
    "        query_null = \" IS NULL OR \".join(columns) + \" IS NULL\"\n",
    "        query_not_null = \" IS NOT NULL AND \".join(columns) + \" IS NOT NULL\"\n",
    "        #Filter the dataframe from valid and not valid conditions \n",
    "        df_nullCount_invalid = df_valid.filter(query_null)\n",
    "        df_nullCount_valid = df_valid.filter(query_not_null)\n",
    "    \n",
    "        #Split the table on valid and not valid tables.\n",
    "        df_valid = df_nullCount_valid\n",
    "        df_invalid = df_invalid.union(df_nullCount_invalid.withColumn(\"validationMessage\",F.lit(\"this record was removed by NullCount validation\")))\n",
    "   \n",
    "    return df_valid, df_invalid"
   ]
  },
  {
   "cell_type": "code",
   "execution_count": null,
   "metadata": {},
   "outputs": [],
   "source": [
    "#Write Tables on a PostgreSQL Database\n",
    "def write_to_PostgreSQL (df,table_name,engine):\n",
    "    pandas_df = df.toPandas()\n",
    "    pandas_df.to_sql(table_name, engine, if_exists='overwrite', index=False)\n"
   ]
  }
 ],
 "metadata": {
  "kernelspec": {
   "display_name": "Python 3 (ipykernel)",
   "language": "python",
   "name": "python3"
  },
  "language_info": {
   "codemirror_mode": {
    "name": "ipython",
    "version": 3
   },
   "file_extension": ".py",
   "mimetype": "text/x-python",
   "name": "python",
   "nbconvert_exporter": "python",
   "pygments_lexer": "ipython3",
   "version": "3.11.5"
  }
 },
 "nbformat": 4,
 "nbformat_minor": 2
}
