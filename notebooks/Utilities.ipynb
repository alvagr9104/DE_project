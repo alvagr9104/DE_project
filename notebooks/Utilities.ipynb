{
 "cells": [
  {
   "cell_type": "code",
   "execution_count": 6,
   "metadata": {},
   "outputs": [],
   "source": [
    "#Install The required libraries and import them.\n",
    "\n",
    "import pandas as pd\n",
    "from pyspark.sql import SparkSession\n",
    "from pyspark.sql.types import StructType,StructField, StringType, IntegerType\n",
    "import pyspark.sql.functions as F \n",
    "from sqlalchemy import create_engine\n",
    "import psycopg2\n",
    "import logging\n",
    "import avro.schema\n",
    "import avro.io\n",
    "import avro.datafile\n",
    "from avro.datafile import DataFileWriter\n",
    "from datetime import datetime\n",
    "import os\n",
    "from sqlalchemy import create_engine, MetaData, Table\n",
    "import json"
   ]
  },
  {
   "cell_type": "code",
   "execution_count": 2,
   "metadata": {},
   "outputs": [],
   "source": [
    "# Initialize Spark session\n",
    "spark = SparkSession.builder \\\n",
    "    .appName(\"Ingestion of CSV Files\") \\\n",
    "    .getOrCreate()"
   ]
  },
  {
   "cell_type": "code",
   "execution_count": null,
   "metadata": {},
   "outputs": [],
   "source": [
    "#Create a validation function based on rules. For this example, the function will validate if the columns of a table are empty on certain rows.\n",
    "def nullCount(df, inputColumns):\n",
    "    df_valid = df #Initially equal to the original dataset.\n",
    "    df_invalid = df.filter(\"1=0\").withColumn(\"validationMessage\",F.lit(\"\")) #Creating empty dataframe with the dataset schema and validation message\n",
    "    columns = inputColumns\n",
    "    source_count=df_valid.count()\n",
    "\n",
    "    if columns:\n",
    "        #Create the valid and not valid conditions\n",
    "        query_null = \" IS NULL OR \".join(columns) + \" IS NULL\"\n",
    "        query_not_null = \" IS NOT NULL AND \".join(columns) + \" IS NOT NULL\"\n",
    "        #Filter the dataframe from valid and not valid conditions \n",
    "        df_nullCount_invalid = df_valid.filter(query_null)\n",
    "        df_nullCount_valid = df_valid.filter(query_not_null)\n",
    "    \n",
    "        #Split the table on valid and not valid tables.\n",
    "        df_valid = df_nullCount_valid\n",
    "        df_invalid = df_invalid.union(df_nullCount_invalid.withColumn(\"validationMessage\",F.lit(\"this record was removed by NullCount validation\")))\n",
    "   \n",
    "    return df_valid, df_invalid"
   ]
  },
  {
   "cell_type": "code",
   "execution_count": null,
   "metadata": {},
   "outputs": [],
   "source": [
    "#Write Tables on a PostgreSQL Database\n",
    "def write_to_PostgreSQL (df,table_name,db_schema,engine):\n",
    "    pandas_df = df.toPandas()\n",
    "    pandas_df.to_sql(table_name, engine,schema=db_schema, if_exists='replace', index=False)\n"
   ]
  },
  {
   "cell_type": "code",
   "execution_count": null,
   "metadata": {},
   "outputs": [],
   "source": [
    "# Function to retrieve table schema from PostgreSQL\n",
    "def get_table_schema(engine, table_name):\n",
    "    metadata = MetaData(bind=engine)\n",
    "    table = Table(table_name, metadata, autoload_with=engine)\n",
    "    schema = {\n",
    "        \"type\": \"record\",\n",
    "        \"name\": table_name,\n",
    "        \"fields\": []\n",
    "    }\n",
    "    for column in table.columns:\n",
    "        avro_type = map_postgresql_to_avro(column.type)\n",
    "        # Allow nulls in schema\n",
    "        avro_field_type = [\"null\", avro_type] if column.nullable else avro_type\n",
    "        schema[\"fields\"].append({\"name\": column.name, \"type\": avro_type})\n",
    "    return schema"
   ]
  },
  {
   "cell_type": "code",
   "execution_count": null,
   "metadata": {},
   "outputs": [],
   "source": [
    "# Function to map PostgreSQL data types to AVRO data types\n",
    "def map_postgresql_to_avro(data_type):\n",
    "    type_map = {\n",
    "        'INTEGER': 'int',\n",
    "        'BIGINT': 'long',\n",
    "        'SMALLINT': 'int',\n",
    "        'BOOLEAN': 'boolean',\n",
    "        'TEXT': 'string',\n",
    "        'VARCHAR': 'string',\n",
    "        'DATE': 'string',\n",
    "        'TIMESTAMP': 'string',\n",
    "        'FLOAT': 'float',\n",
    "        'NUMERIC': 'double'\n",
    "    }\n",
    "    return type_map.get(str(data_type),'string')  # Default to string if type not found"
   ]
  },
  {
   "cell_type": "code",
   "execution_count": 5,
   "metadata": {},
   "outputs": [],
   "source": [
    "#Create backup based on Avro Files\n",
    "def avro_backup(engine,table,schema,db_schema):\n",
    "    try:\n",
    "        #Read the table\n",
    "        df = pd.read_sql_table(table_name, engine,schema=db_schema)\n",
    "        \n",
    "        # Generate a timestamp\n",
    "        timestamp = datetime.now().strftime(\"%Y%m%d_%H%M%S\")\n",
    "        \n",
    "        #Generate backup folder\n",
    "        currentdirectory = os.getcwd()\n",
    "        parentdirectory = os.path.dirname(currentdirectory)\n",
    "        folder_path =f'/backup/{table}/{timestamp}'.replace('/','\\\\')\n",
    "        full_folder_path = parentdirectory + folder_path\n",
    "        os.makedirs(full_folder_path,exist_ok=True)\n",
    "    \n",
    "        #generate Avro File Path\n",
    "        avro_path = full_folder_path + f'/{table}_{timestamp}.avro'\n",
    "    \n",
    "        #Create \n",
    "        records = df.to_dict(orient='records')\n",
    "        parsed_schema = avro.schema.parse(json.dumps(schema))\n",
    "        with open(avro_path, 'wb') as out:\n",
    "            writer = avro.datafile.DataFileWriter(out, avro.io.DatumWriter(), parsed_schema)\n",
    "            for record in records:\n",
    "                writer.append(record)\n",
    "            writer.close()\n",
    "        Print('Backup process completed successfully')\n",
    "        logging.info(f\"Backup for table {table_name} completed successfully. Saved to {avro_path}\")\n",
    "    except Exception as e:\n",
    "        logging.error(f\"Error during backup of table {table_name}: {e}\")"
   ]
  },
  {
   "cell_type": "code",
   "execution_count": null,
   "metadata": {},
   "outputs": [],
   "source": []
  },
  {
   "cell_type": "code",
   "execution_count": null,
   "metadata": {},
   "outputs": [],
   "source": []
  }
 ],
 "metadata": {
  "kernelspec": {
   "display_name": "Python 3 (ipykernel)",
   "language": "python",
   "name": "python3"
  },
  "language_info": {
   "codemirror_mode": {
    "name": "ipython",
    "version": 3
   },
   "file_extension": ".py",
   "mimetype": "text/x-python",
   "name": "python",
   "nbconvert_exporter": "python",
   "pygments_lexer": "ipython3",
   "version": "3.11.5"
  }
 },
 "nbformat": 4,
 "nbformat_minor": 2
}
