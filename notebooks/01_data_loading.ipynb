{
 "cells": [
  {
   "cell_type": "code",
   "execution_count": 27,
   "metadata": {},
   "outputs": [],
   "source": [
    "%run ../notebooks/Utilities.ipynb"
   ]
  },
  {
   "cell_type": "code",
   "execution_count": 31,
   "metadata": {},
   "outputs": [],
   "source": [
    "#Setting the schema of the datasets.\n",
    "\n",
    "schema_hired_employees = StructType ([\n",
    "    StructField(\"id\",IntegerType(), False),\n",
    "    StructField(\"name\",StringType(), True),\n",
    "    StructField(\"datetime\",StringType(), True),\n",
    "    StructField(\"department_id\",IntegerType(), True),\n",
    "    StructField(\"job_id\",IntegerType(), True)\n",
    "])\n",
    "\n",
    "schema_departments = StructType ([\n",
    "    StructField(\"id\",IntegerType(), False),\n",
    "    StructField(\"department\",StringType(), True)\n",
    "])\n",
    "\n",
    "schema_jobs = StructType ([\n",
    "    StructField(\"id\",IntegerType(), False),\n",
    "    StructField(\"job\",StringType(), True)   \n",
    "])"
   ]
  },
  {
   "cell_type": "code",
   "execution_count": 32,
   "metadata": {},
   "outputs": [],
   "source": [
    "# Load CSV files\n",
    "df_hired_employees = spark.read.csv(\"../data/hired_employees.csv\", schema=schema_hired_employees)\n",
    "df_departments = spark.read.csv(\"../data/departments.csv\", schema=schema_departments)\n",
    "df_jobs = spark.read.csv(\"../data/jobs.csv\", schema=schema_jobs)\n",
    "\n",
    "#Format the datetime column as datetime ISO formart\n",
    "df_hired_employees = df_hired_employees.withColumn('datetime',date_format('datetime','yyyy-MM-dd'))"
   ]
  },
  {
   "cell_type": "code",
   "execution_count": 33,
   "metadata": {},
   "outputs": [
    {
     "name": "stdout",
     "output_type": "stream",
     "text": [
      "+---+------------------+----------+-------------+------+\n",
      "| id|              name|  datetime|department_id|job_id|\n",
      "+---+------------------+----------+-------------+------+\n",
      "|  1|       Harold Vogt|2021-11-06|            2|    96|\n",
      "|  2|          Ty Hofer|2021-05-30|            8|  NULL|\n",
      "|  3|       Lyman Hadye|2021-09-01|            5|    52|\n",
      "|  4|     Lotti Crowthe|2021-10-01|           12|    71|\n",
      "|  5|    Gretna Lording|2021-10-10|            6|    80|\n",
      "|  6|    Marlow Antecki|2021-04-23|            6|    95|\n",
      "|  7|      Joan Rillett|2021-10-09|            9|    78|\n",
      "|  8|  Ulrick Nucciotti|2021-07-23|            8|   169|\n",
      "|  9|Lucretia Northcote|2021-04-01|            9|     8|\n",
      "| 10|      Arty Giacobo|2022-02-08|            6|    62|\n",
      "| 11|      Libbi Dowtry|2021-07-04|            6|    41|\n",
      "| 12|      Jacky Oldred|2021-06-20|            7|    29|\n",
      "| 13|      Raine Mowett|2021-12-23|            8|    83|\n",
      "| 14|   Melonie Slocomb|2021-12-30|           12|   121|\n",
      "| 15|    Robers Swinden|2021-02-16|            5|    47|\n",
      "| 16|     Bone Serridge|2021-06-21|            8|   121|\n",
      "| 17|      Andee Tillot|2021-04-01|            8|    65|\n",
      "| 18|       Gay Philbin|2021-12-24|            6|   102|\n",
      "| 19|    Loralie Dundin|2021-10-19|            8|    68|\n",
      "| 20|       Tobi Lawton|2022-02-20|            6|    85|\n",
      "+---+------------------+----------+-------------+------+\n",
      "only showing top 20 rows\n",
      "\n"
     ]
    }
   ],
   "source": [
    "df_hired_employees.show()"
   ]
  },
  {
   "cell_type": "code",
   "execution_count": null,
   "metadata": {},
   "outputs": [],
   "source": []
  },
  {
   "cell_type": "code",
   "execution_count": null,
   "metadata": {},
   "outputs": [],
   "source": []
  }
 ],
 "metadata": {
  "kernelspec": {
   "display_name": "Python 3 (ipykernel)",
   "language": "python",
   "name": "python3"
  },
  "language_info": {
   "codemirror_mode": {
    "name": "ipython",
    "version": 3
   },
   "file_extension": ".py",
   "mimetype": "text/x-python",
   "name": "python",
   "nbconvert_exporter": "python",
   "pygments_lexer": "ipython3",
   "version": "3.11.5"
  }
 },
 "nbformat": 4,
 "nbformat_minor": 2
}
